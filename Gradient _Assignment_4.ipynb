{
 "cells": [
  {
   "cell_type": "code",
   "execution_count": 7,
   "id": "871a3dac-8edf-47c8-b85e-75feb823493d",
   "metadata": {},
   "outputs": [
    {
     "name": "stdout",
     "output_type": "stream",
     "text": [
      "Local minimum x value: -2.999995096014269\n",
      "Function value at local minimum y: 2.4049076048192486e-11\n",
      "Converged in 63 iterations\n"
     ]
    }
   ],
   "source": [
    "def func(x):\n",
    "    return (x + 3) ** 2\n",
    "\n",
    "def derivative(x):\n",
    "    return 2 * (x + 3)\n",
    "\n",
    "alpha = 0.1          # Learning rate\n",
    "tolerance = 1e-6     # Convergence tolerance\n",
    "max_iterations = 1000  # Maximum number of iterations\n",
    "\n",
    "x_current = 2\n",
    "iteration = 0\n",
    "\n",
    "while iteration < max_iterations:\n",
    "    grad = derivative(x_current)\n",
    "    x_new = x_current - alpha * grad\n",
    "    iteration += 1\n",
    "    \n",
    "    if abs(x_new - x_current) < tolerance:\n",
    "        break\n",
    "    \n",
    "    x_current = x_new\n",
    "\n",
    "x_min = x_current\n",
    "y_min = func(x_min)\n",
    "\n",
    "print(f\"Local minimum x value: {x_min}\")\n",
    "print(f\"Function value at local minimum y: {y_min}\")\n",
    "print(f\"Converged in {iteration} iterations\")\n"
   ]
  }
 ],
 "metadata": {
  "kernelspec": {
   "display_name": "Python 3 (ipykernel)",
   "language": "python",
   "name": "python3"
  },
  "language_info": {
   "codemirror_mode": {
    "name": "ipython",
    "version": 3
   },
   "file_extension": ".py",
   "mimetype": "text/x-python",
   "name": "python",
   "nbconvert_exporter": "python",
   "pygments_lexer": "ipython3",
   "version": "3.12.7"
  }
 },
 "nbformat": 4,
 "nbformat_minor": 5
}
