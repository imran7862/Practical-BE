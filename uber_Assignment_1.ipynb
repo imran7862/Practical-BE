{
 "cells": [
  {
   "cell_type": "code",
   "execution_count": 1,
   "id": "de7f04aa-5d64-4a1e-b67e-5931e011b3e1",
   "metadata": {},
   "outputs": [],
   "source": [
    "# Importing required libraries\n",
    "import pandas as pd\n",
    "import numpy as np\n",
    "import matplotlib.pyplot as plt\n",
    "import seaborn as sns\n",
    "from math import cos, asin, sqrt, pi"
   ]
  },
  {
   "cell_type": "code",
   "execution_count": 2,
   "id": "72bc0374-b7d2-4258-a331-a6d231e3c1b0",
   "metadata": {},
   "outputs": [],
   "source": [
    "# loading dataset into dataframe\n",
    "Data_frame = pd.read_csv(\"uber.csv\")"
   ]
  },
  {
   "cell_type": "code",
   "execution_count": 3,
   "id": "2839ca72-756a-4295-95dd-0eb34ddd8743",
   "metadata": {},
   "outputs": [
    {
     "data": {
      "text/html": [
       "<div>\n",
       "<style scoped>\n",
       "    .dataframe tbody tr th:only-of-type {\n",
       "        vertical-align: middle;\n",
       "    }\n",
       "\n",
       "    .dataframe tbody tr th {\n",
       "        vertical-align: top;\n",
       "    }\n",
       "\n",
       "    .dataframe thead th {\n",
       "        text-align: right;\n",
       "    }\n",
       "</style>\n",
       "<table border=\"1\" class=\"dataframe\">\n",
       "  <thead>\n",
       "    <tr style=\"text-align: right;\">\n",
       "      <th></th>\n",
       "      <th>Unnamed: 0</th>\n",
       "      <th>key</th>\n",
       "      <th>fare_amount</th>\n",
       "      <th>pickup_datetime</th>\n",
       "      <th>pickup_longitude</th>\n",
       "      <th>pickup_latitude</th>\n",
       "      <th>dropoff_longitude</th>\n",
       "      <th>dropoff_latitude</th>\n",
       "      <th>passenger_count</th>\n",
       "    </tr>\n",
       "  </thead>\n",
       "  <tbody>\n",
       "    <tr>\n",
       "      <th>0</th>\n",
       "      <td>24238194</td>\n",
       "      <td>2015-05-07 19:52:06.0000003</td>\n",
       "      <td>7.5</td>\n",
       "      <td>2015-05-07 19:52:06 UTC</td>\n",
       "      <td>-73.999817</td>\n",
       "      <td>40.738354</td>\n",
       "      <td>-73.999512</td>\n",
       "      <td>40.723217</td>\n",
       "      <td>1</td>\n",
       "    </tr>\n",
       "    <tr>\n",
       "      <th>1</th>\n",
       "      <td>27835199</td>\n",
       "      <td>2009-07-17 20:04:56.0000002</td>\n",
       "      <td>7.7</td>\n",
       "      <td>2009-07-17 20:04:56 UTC</td>\n",
       "      <td>-73.994355</td>\n",
       "      <td>40.728225</td>\n",
       "      <td>-73.994710</td>\n",
       "      <td>40.750325</td>\n",
       "      <td>1</td>\n",
       "    </tr>\n",
       "    <tr>\n",
       "      <th>2</th>\n",
       "      <td>44984355</td>\n",
       "      <td>2009-08-24 21:45:00.00000061</td>\n",
       "      <td>12.9</td>\n",
       "      <td>2009-08-24 21:45:00 UTC</td>\n",
       "      <td>-74.005043</td>\n",
       "      <td>40.740770</td>\n",
       "      <td>-73.962565</td>\n",
       "      <td>40.772647</td>\n",
       "      <td>1</td>\n",
       "    </tr>\n",
       "    <tr>\n",
       "      <th>3</th>\n",
       "      <td>25894730</td>\n",
       "      <td>2009-06-26 08:22:21.0000001</td>\n",
       "      <td>5.3</td>\n",
       "      <td>2009-06-26 08:22:21 UTC</td>\n",
       "      <td>-73.976124</td>\n",
       "      <td>40.790844</td>\n",
       "      <td>-73.965316</td>\n",
       "      <td>40.803349</td>\n",
       "      <td>3</td>\n",
       "    </tr>\n",
       "    <tr>\n",
       "      <th>4</th>\n",
       "      <td>17610152</td>\n",
       "      <td>2014-08-28 17:47:00.000000188</td>\n",
       "      <td>16.0</td>\n",
       "      <td>2014-08-28 17:47:00 UTC</td>\n",
       "      <td>-73.925023</td>\n",
       "      <td>40.744085</td>\n",
       "      <td>-73.973082</td>\n",
       "      <td>40.761247</td>\n",
       "      <td>5</td>\n",
       "    </tr>\n",
       "  </tbody>\n",
       "</table>\n",
       "</div>"
      ],
      "text/plain": [
       "   Unnamed: 0                            key  fare_amount  \\\n",
       "0    24238194    2015-05-07 19:52:06.0000003          7.5   \n",
       "1    27835199    2009-07-17 20:04:56.0000002          7.7   \n",
       "2    44984355   2009-08-24 21:45:00.00000061         12.9   \n",
       "3    25894730    2009-06-26 08:22:21.0000001          5.3   \n",
       "4    17610152  2014-08-28 17:47:00.000000188         16.0   \n",
       "\n",
       "           pickup_datetime  pickup_longitude  pickup_latitude  \\\n",
       "0  2015-05-07 19:52:06 UTC        -73.999817        40.738354   \n",
       "1  2009-07-17 20:04:56 UTC        -73.994355        40.728225   \n",
       "2  2009-08-24 21:45:00 UTC        -74.005043        40.740770   \n",
       "3  2009-06-26 08:22:21 UTC        -73.976124        40.790844   \n",
       "4  2014-08-28 17:47:00 UTC        -73.925023        40.744085   \n",
       "\n",
       "   dropoff_longitude  dropoff_latitude  passenger_count  \n",
       "0         -73.999512         40.723217                1  \n",
       "1         -73.994710         40.750325                1  \n",
       "2         -73.962565         40.772647                1  \n",
       "3         -73.965316         40.803349                3  \n",
       "4         -73.973082         40.761247                5  "
      ]
     },
     "execution_count": 3,
     "metadata": {},
     "output_type": "execute_result"
    }
   ],
   "source": [
    "Data_frame.head()"
   ]
  },
  {
   "cell_type": "code",
   "execution_count": 4,
   "id": "48541b50-dacf-4ea5-bb0b-a7dd6b662553",
   "metadata": {},
   "outputs": [],
   "source": [
    "# Making copy of original dataframe\n",
    "Data_frame_copy = Data_frame.copy()"
   ]
  },
  {
   "cell_type": "code",
   "execution_count": 5,
   "id": "3226c7e5-9b84-454e-aa91-10fdf7d71d08",
   "metadata": {},
   "outputs": [
    {
     "data": {
      "text/plain": [
       "(200000, 9)"
      ]
     },
     "execution_count": 5,
     "metadata": {},
     "output_type": "execute_result"
    }
   ],
   "source": [
    "Data_frame_copy.shape\n",
    "# Print shape of dataframe like number of rows and number of columns"
   ]
  },
  {
   "cell_type": "code",
   "execution_count": 6,
   "id": "08228aff-0f70-49ab-9176-4edae682e0ec",
   "metadata": {},
   "outputs": [],
   "source": [
    "# Removing columns that are not required\n",
    "Data_frame_copy.drop(columns=['Unnamed: 0','key'],inplace=True)\n",
    "#Drop function used to drop columns or rows\n",
    "#In drop function columns which are need to delete/drop are passed in columns list\n",
    "#In drop function inplace is used so changes are applied on original dataframe if not used need to create new dataframe that store result"
   ]
  },
  {
   "cell_type": "code",
   "execution_count": 7,
   "id": "a277f4e5-5a31-4f4b-afd5-1956798a86a2",
   "metadata": {},
   "outputs": [
    {
     "data": {
      "text/html": [
       "<div>\n",
       "<style scoped>\n",
       "    .dataframe tbody tr th:only-of-type {\n",
       "        vertical-align: middle;\n",
       "    }\n",
       "\n",
       "    .dataframe tbody tr th {\n",
       "        vertical-align: top;\n",
       "    }\n",
       "\n",
       "    .dataframe thead th {\n",
       "        text-align: right;\n",
       "    }\n",
       "</style>\n",
       "<table border=\"1\" class=\"dataframe\">\n",
       "  <thead>\n",
       "    <tr style=\"text-align: right;\">\n",
       "      <th></th>\n",
       "      <th>fare_amount</th>\n",
       "      <th>pickup_datetime</th>\n",
       "      <th>pickup_longitude</th>\n",
       "      <th>pickup_latitude</th>\n",
       "      <th>dropoff_longitude</th>\n",
       "      <th>dropoff_latitude</th>\n",
       "      <th>passenger_count</th>\n",
       "    </tr>\n",
       "  </thead>\n",
       "  <tbody>\n",
       "    <tr>\n",
       "      <th>0</th>\n",
       "      <td>7.5</td>\n",
       "      <td>2015-05-07 19:52:06 UTC</td>\n",
       "      <td>-73.999817</td>\n",
       "      <td>40.738354</td>\n",
       "      <td>-73.999512</td>\n",
       "      <td>40.723217</td>\n",
       "      <td>1</td>\n",
       "    </tr>\n",
       "    <tr>\n",
       "      <th>1</th>\n",
       "      <td>7.7</td>\n",
       "      <td>2009-07-17 20:04:56 UTC</td>\n",
       "      <td>-73.994355</td>\n",
       "      <td>40.728225</td>\n",
       "      <td>-73.994710</td>\n",
       "      <td>40.750325</td>\n",
       "      <td>1</td>\n",
       "    </tr>\n",
       "    <tr>\n",
       "      <th>2</th>\n",
       "      <td>12.9</td>\n",
       "      <td>2009-08-24 21:45:00 UTC</td>\n",
       "      <td>-74.005043</td>\n",
       "      <td>40.740770</td>\n",
       "      <td>-73.962565</td>\n",
       "      <td>40.772647</td>\n",
       "      <td>1</td>\n",
       "    </tr>\n",
       "    <tr>\n",
       "      <th>3</th>\n",
       "      <td>5.3</td>\n",
       "      <td>2009-06-26 08:22:21 UTC</td>\n",
       "      <td>-73.976124</td>\n",
       "      <td>40.790844</td>\n",
       "      <td>-73.965316</td>\n",
       "      <td>40.803349</td>\n",
       "      <td>3</td>\n",
       "    </tr>\n",
       "    <tr>\n",
       "      <th>4</th>\n",
       "      <td>16.0</td>\n",
       "      <td>2014-08-28 17:47:00 UTC</td>\n",
       "      <td>-73.925023</td>\n",
       "      <td>40.744085</td>\n",
       "      <td>-73.973082</td>\n",
       "      <td>40.761247</td>\n",
       "      <td>5</td>\n",
       "    </tr>\n",
       "  </tbody>\n",
       "</table>\n",
       "</div>"
      ],
      "text/plain": [
       "   fare_amount          pickup_datetime  pickup_longitude  pickup_latitude  \\\n",
       "0          7.5  2015-05-07 19:52:06 UTC        -73.999817        40.738354   \n",
       "1          7.7  2009-07-17 20:04:56 UTC        -73.994355        40.728225   \n",
       "2         12.9  2009-08-24 21:45:00 UTC        -74.005043        40.740770   \n",
       "3          5.3  2009-06-26 08:22:21 UTC        -73.976124        40.790844   \n",
       "4         16.0  2014-08-28 17:47:00 UTC        -73.925023        40.744085   \n",
       "\n",
       "   dropoff_longitude  dropoff_latitude  passenger_count  \n",
       "0         -73.999512         40.723217                1  \n",
       "1         -73.994710         40.750325                1  \n",
       "2         -73.962565         40.772647                1  \n",
       "3         -73.965316         40.803349                3  \n",
       "4         -73.973082         40.761247                5  "
      ]
     },
     "execution_count": 7,
     "metadata": {},
     "output_type": "execute_result"
    }
   ],
   "source": [
    "Data_frame_copy.head()"
   ]
  },
  {
   "cell_type": "code",
   "execution_count": 8,
   "id": "302c7487-edaa-4435-972f-0090c97f797a",
   "metadata": {},
   "outputs": [
    {
     "name": "stdout",
     "output_type": "stream",
     "text": [
      "<class 'pandas.core.frame.DataFrame'>\n",
      "RangeIndex: 200000 entries, 0 to 199999\n",
      "Data columns (total 7 columns):\n",
      " #   Column             Non-Null Count   Dtype  \n",
      "---  ------             --------------   -----  \n",
      " 0   fare_amount        200000 non-null  float64\n",
      " 1   pickup_datetime    200000 non-null  object \n",
      " 2   pickup_longitude   200000 non-null  float64\n",
      " 3   pickup_latitude    200000 non-null  float64\n",
      " 4   dropoff_longitude  199999 non-null  float64\n",
      " 5   dropoff_latitude   199999 non-null  float64\n",
      " 6   passenger_count    200000 non-null  int64  \n",
      "dtypes: float64(5), int64(1), object(1)\n",
      "memory usage: 10.7+ MB\n"
     ]
    }
   ],
   "source": [
    "# Basic information about dataframe\n",
    "Data_frame_copy.info()\n",
    "# Print Column_name, Non-Null row count and Datatype of column"
   ]
  },
  {
   "cell_type": "code",
   "execution_count": 9,
   "id": "045f1352-bbab-4242-a9ac-a430cfee2166",
   "metadata": {},
   "outputs": [
    {
     "data": {
      "text/plain": [
       "fare_amount          0\n",
       "pickup_datetime      0\n",
       "pickup_longitude     0\n",
       "pickup_latitude      0\n",
       "dropoff_longitude    1\n",
       "dropoff_latitude     1\n",
       "passenger_count      0\n",
       "dtype: int64"
      ]
     },
     "execution_count": 9,
     "metadata": {},
     "output_type": "execute_result"
    }
   ],
   "source": [
    "# Checking for Null values in Dataframe\n",
    "Data_frame_copy.isnull().sum()\n",
    "# Print column_name and count of null values present"
   ]
  },
  {
   "cell_type": "code",
   "execution_count": 10,
   "id": "86d3ba52-5019-4cde-889f-d368cfeea8fd",
   "metadata": {},
   "outputs": [],
   "source": [
    "# Since number of null values are only 1 therefore we can drop them without much dataloss\n",
    "Data_frame_copy.dropna(inplace=True)\n",
    "# Data_frame_copy[\"dropoff_longitude\"] = Data_frame_copy[\"dropoff_longitude\"].replace(np.nan,Data_frame_copy[\"dropoff_longitude\"].mean())"
   ]
  },
  {
   "cell_type": "code",
   "execution_count": 11,
   "id": "ba97e74a-833a-43bf-9470-ee9f7d9220de",
   "metadata": {},
   "outputs": [
    {
     "data": {
      "text/plain": [
       "fare_amount          0\n",
       "pickup_datetime      0\n",
       "pickup_longitude     0\n",
       "pickup_latitude      0\n",
       "dropoff_longitude    0\n",
       "dropoff_latitude     0\n",
       "passenger_count      0\n",
       "dtype: int64"
      ]
     },
     "execution_count": 11,
     "metadata": {},
     "output_type": "execute_result"
    }
   ],
   "source": [
    "# Checking for Null values in Dataframe\n",
    "Data_frame_copy.isnull().sum()"
   ]
  },
  {
   "cell_type": "code",
   "execution_count": 12,
   "id": "a524f19c-5d93-4e9b-9ede-b8f41c634fec",
   "metadata": {},
   "outputs": [
    {
     "data": {
      "image/png": "[encoded data removed]",
      "text/plain": [
       "<Figure size 640x480 with 1 Axes>"
      ]
     },
     "metadata": {},
     "output_type": "display_data"
    },
    {
     "data": {
      "image/png": "[encoded data removed]",
      "text/plain": [
       "<Figure size 640x480 with 1 Axes>"
      ]
     },
     "metadata": {},
     "output_type": "display_data"
    },
    {
     "data": {
      "image/png": "[encoded data removed]",
      "text/plain": [
       "<Figure size 640x480 with 1 Axes>"
      ]
     },
     "metadata": {},
     "output_type": "display_data"
    },
    {
     "data": {
      "image/png": "[encoded data removed]",
      "text/plain": [
       "<Figure size 640x480 with 1 Axes>"
      ]
     },
     "metadata": {},
     "output_type": "display_data"
    },
    {
     "data": {
      "image/png": "[encoded data removed]",
      "text/plain": [
       "<Figure size 640x480 with 1 Axes>"
      ]
     },
     "metadata": {},
     "output_type": "display_data"
    },
    {
     "data": {
      "image/png": "[encoded data removed]",
      "text/plain": [
       "<Figure size 640x480 with 1 Axes>"
      ]
     },
     "metadata": {},
     "output_type": "display_data"
    }
   ],
   "source": [
    "# Drawing boxplots for outlier detection\n",
    "for columns in Data_frame_copy.select_dtypes(exclude=['object']):\n",
    "    plt.figure()\n",
    "    sns.boxplot(data=Data_frame_copy,x=columns)"
   ]
  },
  {
   "cell_type": "code",
   "execution_count": 13,
   "id": "6c0b7bd3-9de9-44b5-8cd9-2ccba828b3f1",
   "metadata": {},
   "outputs": [],
   "source": [
    "# Handling outliers complex but simple just need to understand conditions \n",
    "Data_frame_copy = Data_frame_copy[\n",
    "    (Data_frame_copy.pickup_latitude > -90) & (Data_frame_copy.pickup_latitude < 90) & # Latitude need to have value between -90 to 90\n",
    "    (Data_frame_copy.dropoff_latitude > -90) & (Data_frame_copy.dropoff_latitude < 90) & # Latitude need to have value between -90 to 90\n",
    "    (Data_frame_copy.pickup_longitude > -180) & (Data_frame_copy.pickup_longitude < 180) & # Longitude need to have value between -180 to 180\n",
    "    (Data_frame_copy.dropoff_longitude > -180) & (Data_frame_copy.dropoff_longitude < 180) & # Longitude need to have value between -180 to 180\n",
    "    (Data_frame_copy.fare_amount > 0) & # Fare amount need to more than zero\n",
    "    (Data_frame_copy.passenger_count > 0) & (Data_frame_copy.passenger_count < 50) # Number of passenger per ride need to have between 0 to 50\n",
    "]"
   ]
  },
  {
   "cell_type": "code",
   "execution_count": 48,
   "id": "2e9a37b3-2b35-443f-b378-48f49cd236cb",
   "metadata": {},
   "outputs": [
    {
     "data": {
      "text/plain": [
       "(193221, 10)"
      ]
     },
     "execution_count": 48,
     "metadata": {},
     "output_type": "execute_result"
    }
   ],
   "source": [
    "Data_frame_copy.shape"
   ]
  },
  {
   "cell_type": "code",
   "execution_count": 14,
   "id": "be70e771-9b1b-4401-988e-d80051af56f3",
   "metadata": {},
   "outputs": [],
   "source": [
    "# Calculating distance between pickup_point and dropoff_point since price mainly depend on distance rather than other attributes\n",
    "# Step 1\n",
    "# Converting Degree measure into Radian measure\n",
    "Data_frame_copy[\"pickup_longitude\"], Data_frame_copy[\"dropoff_longitude\"], Data_frame_copy[\"pickup_latitude\"], Data_frame_copy[\"dropoff_latitude\"] = map(np.radians, [Data_frame_copy[\"pickup_longitude\"], Data_frame_copy[\"dropoff_longitude\"], Data_frame_copy[\"pickup_latitude\"], Data_frame_copy[\"dropoff_latitude\"]])\n",
    "# Step 2\n",
    "# Calculate difference between drop_off latitude and pickup latitude and store it in new column name latitude_diff\n",
    "Data_frame_copy[\"latitude_diff\"] = Data_frame_copy[\"dropoff_latitude\"] - Data_frame_copy[\"pickup_latitude\"]\n",
    "# Step 3\n",
    "# Calculate difference between drop_off longitude and pickup longitude and store it in new column name longitude_diff\n",
    "Data_frame_copy[\"longitude_diff\"] = Data_frame_copy[\"dropoff_longitude\"] - Data_frame_copy[\"pickup_longitude\"]\n",
    "# Step 4\n",
    "# Calculating actual distance and store it in distance column\n",
    "Data_frame_copy[\"Distance\"] = 2 * 6371 * np.arcsin(np.sqrt(np.sin(Data_frame_copy[\"latitude_diff\"]/2.0)**2 +\n",
    "                                                           np.cos(Data_frame_copy[\"dropoff_latitude\"]) * np.cos(Data_frame_copy[\"pickup_latitude\"]) \n",
    "                                                        * np.sin(Data_frame_copy[\"longitude_diff\"]/2.0)**2))"
   ]
  },
  {
   "cell_type": "code",
   "execution_count": 15,
   "id": "1b33c89f-839a-4565-bfdc-515feadc6397",
   "metadata": {},
   "outputs": [
    {
     "data": {
      "text/html": [
       "<div>\n",
       "<style scoped>\n",
       "    .dataframe tbody tr th:only-of-type {\n",
       "        vertical-align: middle;\n",
       "    }\n",
       "\n",
       "    .dataframe tbody tr th {\n",
       "        vertical-align: top;\n",
       "    }\n",
       "\n",
       "    .dataframe thead th {\n",
       "        text-align: right;\n",
       "    }\n",
       "</style>\n",
       "<table border=\"1\" class=\"dataframe\">\n",
       "  <thead>\n",
       "    <tr style=\"text-align: right;\">\n",
       "      <th></th>\n",
       "      <th>fare_amount</th>\n",
       "      <th>pickup_datetime</th>\n",
       "      <th>pickup_longitude</th>\n",
       "      <th>pickup_latitude</th>\n",
       "      <th>dropoff_longitude</th>\n",
       "      <th>dropoff_latitude</th>\n",
       "      <th>passenger_count</th>\n",
       "      <th>latitude_diff</th>\n",
       "      <th>longitude_diff</th>\n",
       "      <th>Distance</th>\n",
       "    </tr>\n",
       "  </thead>\n",
       "  <tbody>\n",
       "    <tr>\n",
       "      <th>0</th>\n",
       "      <td>7.5</td>\n",
       "      <td>2015-05-07 19:52:06 UTC</td>\n",
       "      <td>-1.291540</td>\n",
       "      <td>0.711018</td>\n",
       "      <td>-1.291535</td>\n",
       "      <td>0.710754</td>\n",
       "      <td>1</td>\n",
       "      <td>-0.000264</td>\n",
       "      <td>0.000005</td>\n",
       "      <td>1.683323</td>\n",
       "    </tr>\n",
       "    <tr>\n",
       "      <th>1</th>\n",
       "      <td>7.7</td>\n",
       "      <td>2009-07-17 20:04:56 UTC</td>\n",
       "      <td>-1.291445</td>\n",
       "      <td>0.710842</td>\n",
       "      <td>-1.291451</td>\n",
       "      <td>0.711227</td>\n",
       "      <td>1</td>\n",
       "      <td>0.000386</td>\n",
       "      <td>-0.000006</td>\n",
       "      <td>2.457590</td>\n",
       "    </tr>\n",
       "    <tr>\n",
       "      <th>2</th>\n",
       "      <td>12.9</td>\n",
       "      <td>2009-08-24 21:45:00 UTC</td>\n",
       "      <td>-1.291632</td>\n",
       "      <td>0.711061</td>\n",
       "      <td>-1.290890</td>\n",
       "      <td>0.711617</td>\n",
       "      <td>1</td>\n",
       "      <td>0.000556</td>\n",
       "      <td>0.000741</td>\n",
       "      <td>5.036377</td>\n",
       "    </tr>\n",
       "    <tr>\n",
       "      <th>3</th>\n",
       "      <td>5.3</td>\n",
       "      <td>2009-06-26 08:22:21 UTC</td>\n",
       "      <td>-1.291127</td>\n",
       "      <td>0.711935</td>\n",
       "      <td>-1.290938</td>\n",
       "      <td>0.712153</td>\n",
       "      <td>3</td>\n",
       "      <td>0.000218</td>\n",
       "      <td>0.000189</td>\n",
       "      <td>1.661683</td>\n",
       "    </tr>\n",
       "    <tr>\n",
       "      <th>4</th>\n",
       "      <td>16.0</td>\n",
       "      <td>2014-08-28 17:47:00 UTC</td>\n",
       "      <td>-1.290235</td>\n",
       "      <td>0.711118</td>\n",
       "      <td>-1.291074</td>\n",
       "      <td>0.711418</td>\n",
       "      <td>5</td>\n",
       "      <td>0.000300</td>\n",
       "      <td>-0.000839</td>\n",
       "      <td>4.475450</td>\n",
       "    </tr>\n",
       "  </tbody>\n",
       "</table>\n",
       "</div>"
      ],
      "text/plain": [
       "   fare_amount          pickup_datetime  pickup_longitude  pickup_latitude  \\\n",
       "0          7.5  2015-05-07 19:52:06 UTC         -1.291540         0.711018   \n",
       "1          7.7  2009-07-17 20:04:56 UTC         -1.291445         0.710842   \n",
       "2         12.9  2009-08-24 21:45:00 UTC         -1.291632         0.711061   \n",
       "3          5.3  2009-06-26 08:22:21 UTC         -1.291127         0.711935   \n",
       "4         16.0  2014-08-28 17:47:00 UTC         -1.290235         0.711118   \n",
       "\n",
       "   dropoff_longitude  dropoff_latitude  passenger_count  latitude_diff  \\\n",
       "0          -1.291535          0.710754                1      -0.000264   \n",
       "1          -1.291451          0.711227                1       0.000386   \n",
       "2          -1.290890          0.711617                1       0.000556   \n",
       "3          -1.290938          0.712153                3       0.000218   \n",
       "4          -1.291074          0.711418                5       0.000300   \n",
       "\n",
       "   longitude_diff  Distance  \n",
       "0        0.000005  1.683323  \n",
       "1       -0.000006  2.457590  \n",
       "2        0.000741  5.036377  \n",
       "3        0.000189  1.661683  \n",
       "4       -0.000839  4.475450  "
      ]
     },
     "execution_count": 15,
     "metadata": {},
     "output_type": "execute_result"
    }
   ],
   "source": [
    "Data_frame_copy.head()"
   ]
  },
  {
   "cell_type": "code",
   "execution_count": 16,
   "id": "bcc87aab-95a3-4f4b-a248-865c47b3781d",
   "metadata": {},
   "outputs": [
    {
     "data": {
      "text/plain": [
       "<Axes: xlabel='Distance'>"
      ]
     },
     "execution_count": 16,
     "metadata": {},
     "output_type": "execute_result"
    },
    {
     "data": {
      "image/png": "[encoded data removed]",
      "text/plain": [
       "<Figure size 640x480 with 1 Axes>"
      ]
     },
     "metadata": {},
     "output_type": "display_data"
    }
   ],
   "source": [
    "# Checking for outlier in distance column\n",
    "sns.boxplot(data=Data_frame_copy,x='Distance')"
   ]
  },
  {
   "cell_type": "code",
   "execution_count": 17,
   "id": "0981c531-05ad-42c1-ac8b-4009da9d56db",
   "metadata": {},
   "outputs": [],
   "source": [
    "# Handling outliers in distance column\n",
    "Data_frame_copy = Data_frame_copy[(Data_frame_copy['Distance'] < 200) & (Data_frame_copy['Distance'] > 0)]"
   ]
  },
  {
   "cell_type": "code",
   "execution_count": 18,
   "id": "38e990c1-8b53-462f-8233-4f5fb7fec29c",
   "metadata": {},
   "outputs": [],
   "source": [
    "# Spliting Data into Dependent and Independant variable\n",
    "x = Data_frame_copy[['Distance']].values\n",
    "y = Data_frame_copy['fare_amount'].values.reshape(-1,1)"
   ]
  },
  {
   "cell_type": "code",
   "execution_count": 19,
   "id": "abba0a41-b2df-481a-876e-8deb56288206",
   "metadata": {},
   "outputs": [],
   "source": [
    "# Spliting Data into training and testing data\n",
    "from sklearn.model_selection import train_test_split\n",
    "x_train, x_test, y_train,y_test = train_test_split(x,y,random_state=10)"
   ]
  },
  {
   "cell_type": "code",
   "execution_count": 20,
   "id": "bcf246b6-77ff-4a60-a789-6a6b1a57d571",
   "metadata": {},
   "outputs": [],
   "source": [
    "# Scaling data using standard scaler\n",
    "from sklearn.preprocessing import StandardScaler\n",
    "std = StandardScaler()\n",
    "x_train = std.fit_transform(x_train)\n",
    "x_test = std.transform(x_test)\n",
    "y_train = std.fit_transform(y_train)\n",
    "y_test = std.transform(y_test)"
   ]
  },
  {
   "cell_type": "code",
   "execution_count": 21,
   "id": "d50d0a9c-743b-4af7-8a5e-55c446b796f9",
   "metadata": {},
   "outputs": [],
   "source": [
    "# Defining function that take model object as parameter and print RMSE, MAE and R2-square\n",
    "from sklearn.metrics import root_mean_squared_error,r2_score, mean_absolute_error\n",
    "def fit_predict(model):\n",
    "    model.fit(x_train,y_train.ravel())\n",
    "    y_pred = model.predict(x_test)\n",
    "    r_squared = r2_score(y_test,y_pred)\n",
    "    RMSE = root_mean_squared_error(y_test, y_pred)\n",
    "    MAE = mean_absolute_error(y_test,y_pred)\n",
    "    print('R-squared: ', r_squared)\n",
    "    print('RMSE: ', RMSE)\n",
    "    print(\"MAE:  \",MAE)"
   ]
  },
  {
   "cell_type": "code",
   "execution_count": 22,
   "id": "62b6bbe8-aaf4-4c0b-8b4a-a3c66747dbd4",
   "metadata": {},
   "outputs": [
    {
     "name": "stdout",
     "output_type": "stream",
     "text": [
      "R-squared:  0.6041167920841168\n",
      "RMSE:  0.6290054895695946\n",
      "MAE:   0.2755232959095983\n"
     ]
    }
   ],
   "source": [
    "from sklearn.linear_model import LinearRegression\n",
    "fit_predict(LinearRegression())"
   ]
  },
  {
   "cell_type": "code",
   "execution_count": 23,
   "id": "8bd1598b-9194-4796-a699-af6cebf87154",
   "metadata": {},
   "outputs": [
    {
     "name": "stdout",
     "output_type": "stream",
     "text": [
      "R-squared:  0.6541398002040316\n",
      "RMSE:  0.587924000257218\n",
      "MAE:   0.2918046134596004\n"
     ]
    }
   ],
   "source": [
    "from sklearn.ensemble import RandomForestRegressor\n",
    "fit_predict(RandomForestRegressor())"
   ]
  },
  {
   "cell_type": "code",
   "execution_count": null,
   "id": "378f414d-5c11-4446-82e9-89a9eeb6b5bd",
   "metadata": {},
   "outputs": [],
   "source": []
  }
 ],
 "metadata": {
  "kernelspec": {
   "display_name": "Python 3 (ipykernel)",
   "language": "python",
   "name": "python3"
  },
  "language_info": {
   "codemirror_mode": {
    "name": "ipython",
    "version": 3
   },
   "file_extension": ".py",
   "mimetype": "text/x-python",
   "name": "python",
   "nbconvert_exporter": "python",
   "pygments_lexer": "ipython3",
   "version": "3.12.7"
  }
 },
 "nbformat": 4,
 "nbformat_minor": 5
}
